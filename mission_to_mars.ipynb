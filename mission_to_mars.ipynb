{
 "cells": [
  {
   "cell_type": "code",
   "execution_count": 20,
   "metadata": {},
   "outputs": [],
   "source": [
    "from bs4 import BeautifulSoup\n",
    "from splinter import Browser\n",
    "import time\n",
    "import requests\n",
    "\n",
    "response_dict ={}"
   ]
  },
  {
   "cell_type": "code",
   "execution_count": 21,
   "metadata": {},
   "outputs": [],
   "source": [
    "executable_path = {'executable_path': 'chromedriver.exe'}\n",
    "browser = Browser('chrome', **executable_path, headless=False)"
   ]
  },
  {
   "cell_type": "code",
   "execution_count": 3,
   "metadata": {},
   "outputs": [],
   "source": [
    "url_art =\"https://mars.nasa.gov/news/\"\n",
    "browser.visit(url_art)\n",
    "time.sleep(0.5)\n",
    "html = browser.html\n",
    "soup3 = BeautifulSoup(html, 'html.parser')\n",
    "time.sleep(1)\n",
    "result = soup3.find('li', class_=\"slide\")\n",
    "headline = result.h3.text\n",
    "description = result.find('div',class_=\"article_teaser_body\").text\n",
    "response_dict[\"article\"]={\"headline\":headline,\"description\":description}"
   ]
  },
  {
   "cell_type": "code",
   "execution_count": 5,
   "metadata": {},
   "outputs": [
    {
     "name": "stderr",
     "output_type": "stream",
     "text": [
      "C:\\Users\\walsh\\anaconda3\\lib\\site-packages\\splinter\\driver\\webdriver\\__init__.py:528: FutureWarning: browser.find_link_by_partial_text is deprecated. Use browser.links.find_by_partial_text instead.\n",
      "  FutureWarning,\n"
     ]
    }
   ],
   "source": [
    "url = 'https://www.jpl.nasa.gov/spaceimages/?search=&category=Mars'\n",
    "browser.visit(url)\n",
    "#navigate to the full screen image\n",
    "browser.click_link_by_partial_text('FULL IMAGE')\n",
    "#get the html of the screen that was just navigated to\n",
    "time.sleep(0.5)\n",
    "html = browser.html\n",
    "#read and store html\n",
    "soup2 = BeautifulSoup(html, 'html.parser')\n",
    "#print the html in a readable format\n",
    "#print(soup2.prettify())\n",
    "time.sleep(0.5)\n",
    "result=soup2.find_all('img', class_=\"fancybox-image\")\n",
    "#save image url extension\n",
    "#time.sleep(.3)\n",
    "web_image = result[0]['src']\n",
    "#append the beginning of the html page to the image extension\n",
    "img_url = f\"jpl.nasa.gov{web_image}\"\n",
    "response_dict[\"img_url\"]=img_url"
   ]
  },
  {
   "cell_type": "code",
   "execution_count": 7,
   "metadata": {},
   "outputs": [],
   "source": [
    "twitter_url = 'https://twitter.com/marswxreport?lang=en'\n",
    "browser.visit(twitter_url)\n",
    "time.sleep(1)\n",
    "html = browser.html\n",
    "\n",
    "#read and store html\n",
    "soup_facts = BeautifulSoup(html, 'html.parser')\n",
    "#print the html in a readable format\n",
    "#print(soup2.prettify())\n",
    "time.sleep(1)\n",
    "results=soup_facts.find_all('span', class_='css-901oao css-16my406 r-1qd0xha r-ad9z0x r-bcqeeo r-qvutc0')\n",
    "time.sleep(2)\n",
    "weather=\"\"\n",
    "subs = 'InSight'\n",
    "for i in range(len(results)):\n",
    "    \n",
    "\n",
    "    if subs in results[i].text:\n",
    "        weather = results[i].text\n",
    "        break\n",
    "    else:\n",
    "        pass\n",
    "        \n",
    "response_dict[\"weather\"]=weather"
   ]
  },
  {
   "cell_type": "code",
   "execution_count": 12,
   "metadata": {},
   "outputs": [],
   "source": [
    "url_facts = 'https://space-facts.com/mars/'\n",
    "browser.visit(url_facts)\n",
    "html = browser.html\n",
    "\n",
    "#read and store html\n",
    "soup_facts = BeautifulSoup(html, 'html.parser')\n",
    "#print the html in a readable format\n",
    "#print(soup2.prettify())\n",
    "time.sleep(1)\n",
    "#result=soup2.find_all('img', class_=\"fancybox-image\")\n",
    "#save image url extension\n",
    "table = soup_facts.find('table',class_='tablepress')\n",
    "\n",
    "table_info =table.find_all('td')\n",
    "mars_facts=[]\n",
    "for element in table_info:\n",
    "    if table_info.index(element)%2 ==0:\n",
    "        label = element.text\n",
    "    else:\n",
    "        value = element.text\n",
    "        facts={\"label\":label,\"value\":value}\n",
    "        mars_facts.append(facts)\n",
    "        \n",
    "response_dict[\"facts\"]=mars_facts"
   ]
  },
  {
   "cell_type": "code",
   "execution_count": 15,
   "metadata": {},
   "outputs": [],
   "source": []
  },
  {
   "cell_type": "code",
   "execution_count": 17,
   "metadata": {},
   "outputs": [],
   "source": [
    "url_pics = 'https://astrogeology.usgs.gov/search/results?q=hemisphere+enhanced&k1=target&v1=Mars'\n",
    "hemispheres = [\"Valles Marineris Hemisphere\",\"Cerberus Hemisphere\",\"Schiaparelli Hemisphere\",\"Syrtis Major Hemisphere\"]\n",
    "hemisphere_image_urls =[]\n",
    "for hem in hemispheres:\n",
    "    browser.visit(url_pics)\n",
    "    browser.click_link_by_partial_text(hem)\n",
    "    browser.click_link_by_partial_text(\"Sample\")\n",
    "    time.sleep(0.25)\n",
    "    html = browser.html\n",
    "    time.sleep(0.25)\n",
    "    pic_soup = BeautifulSoup(html, 'html.parser')\n",
    "    url = pic_soup.find_all('ul')[0].a['href']\n",
    "    title = pic_soup.find('h2',class_=\"title\").text\n",
    "    entry = {\"title\":title,\"img_url\":url}\n",
    "    hemisphere_image_urls.append(entry)\n",
    "\n",
    "response_dict[\"hemispheres\"] = hemisphere_image_urls"
   ]
  },
  {
   "cell_type": "code",
   "execution_count": 18,
   "metadata": {},
   "outputs": [],
   "source": []
  },
  {
   "cell_type": "code",
   "execution_count": 19,
   "metadata": {},
   "outputs": [
    {
     "data": {
      "text/plain": [
       "{'article': {'headline': \"The Detective Aboard NASA's Perseverance Rover\",\n",
       "  'description': 'An instrument called SHERLOC will, with the help of its partner WATSON, hunt for signs of ancient life by detecting organic molecules and minerals.'},\n",
       " 'img_url': 'jpl.nasa.gov/spaceimages/images/mediumsize/PIA18847_ip.jpg',\n",
       " 'weather': 'InSight sol 532 (2020-05-26) low -93.1ºC (-135.7ºF) high -1.1ºC (30.0ºF)\\nwinds from the SW at 4.9 m/s (10.9 mph) gusting to 17.7 m/s (39.6 mph)\\npressure at 7.10 hPa',\n",
       " 'facts': [{'label': 'Equatorial Diameter:', 'value': '6,792 km'},\n",
       "  {'label': 'Polar Diameter:', 'value': '6,752 km'},\n",
       "  {'label': 'Mass:', 'value': '6.39 × 10^23 kg (0.11 Earths)'},\n",
       "  {'label': 'Moons:', 'value': '2 (Phobos & Deimos)'},\n",
       "  {'label': 'Orbit Distance:', 'value': '227,943,824 km (1.38 AU)'},\n",
       "  {'label': 'Orbit Period:', 'value': '687 days (1.9 years)'},\n",
       "  {'label': 'Surface Temperature: ', 'value': '-87 to -5 °C'},\n",
       "  {'label': 'First Record:', 'value': '2nd millennium BC'},\n",
       "  {'label': 'Recorded By:', 'value': 'Egyptian astronomers'}],\n",
       " 'hemispheres': [{'title': 'Valles Marineris Hemisphere Enhanced',\n",
       "   'img_url': 'https://astropedia.astrogeology.usgs.gov/download/Mars/Viking/valles_marineris_enhanced.tif/full.jpg'},\n",
       "  {'title': 'Cerberus Hemisphere Enhanced',\n",
       "   'img_url': 'https://astropedia.astrogeology.usgs.gov/download/Mars/Viking/cerberus_enhanced.tif/full.jpg'},\n",
       "  {'title': 'Schiaparelli Hemisphere Enhanced',\n",
       "   'img_url': 'https://astropedia.astrogeology.usgs.gov/download/Mars/Viking/schiaparelli_enhanced.tif/full.jpg'},\n",
       "  {'title': 'Syrtis Major Hemisphere Enhanced',\n",
       "   'img_url': 'https://astropedia.astrogeology.usgs.gov/download/Mars/Viking/syrtis_major_enhanced.tif/full.jpg'}]}"
      ]
     },
     "execution_count": 19,
     "metadata": {},
     "output_type": "execute_result"
    }
   ],
   "source": [
    "response_dict"
   ]
  },
  {
   "cell_type": "code",
   "execution_count": null,
   "metadata": {},
   "outputs": [],
   "source": []
  }
 ],
 "metadata": {
  "kernelspec": {
   "display_name": "Python 3",
   "language": "python",
   "name": "python3"
  },
  "language_info": {
   "codemirror_mode": {
    "name": "ipython",
    "version": 3
   },
   "file_extension": ".py",
   "mimetype": "text/x-python",
   "name": "python",
   "nbconvert_exporter": "python",
   "pygments_lexer": "ipython3",
   "version": "3.7.6"
  },
  "varInspector": {
   "cols": {
    "lenName": 16,
    "lenType": 16,
    "lenVar": 40
   },
   "kernels_config": {
    "python": {
     "delete_cmd_postfix": "",
     "delete_cmd_prefix": "del ",
     "library": "var_list.py",
     "varRefreshCmd": "print(var_dic_list())"
    },
    "r": {
     "delete_cmd_postfix": ") ",
     "delete_cmd_prefix": "rm(",
     "library": "var_list.r",
     "varRefreshCmd": "cat(var_dic_list()) "
    }
   },
   "types_to_exclude": [
    "module",
    "function",
    "builtin_function_or_method",
    "instance",
    "_Feature"
   ],
   "window_display": false
  }
 },
 "nbformat": 4,
 "nbformat_minor": 4
}
